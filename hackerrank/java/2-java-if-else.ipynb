{
 "cells": [
  {
   "cell_type": "markdown",
   "metadata": {},
   "source": [
    "### 1. 题目描述"
   ]
  },
  {
   "cell_type": "markdown",
   "metadata": {},
   "source": [
    "In this challenge, we test your knowledge of using if-else conditional statements to automate decision-making processes. An if-else statement has the following logical flow:\n",
    "\n",
    "![img](https://s3.amazonaws.com/hr-challenge-images/13689/1446563087-4ec019a919-332px-If-Then-Else-diagram.svg.png)\n",
    "\n",
    "**Task**   \n",
    "Given an integer $n$, perform the following conditional actions:\n",
    "\n",
    "- If $n$ is odd, print Weird\n",
    "- If $n$ is even and in the inclusive range of 2 to 5, print Not Weird\n",
    "- If $n$ is even and in the inclusive range of 6 to 20, print Weird\n",
    "- If $n$ is even and greater than 20 , print Not Weird\n",
    "Complete the stub code provided in your editor to print whether or not $n$ is weird.\n",
    "\n",
    "**Input Format**   \n",
    "\n",
    "A single line containing a positive integer, $n$ .\n",
    "\n",
    "**Constraints**   \n",
    "\n",
    "$$1 \\le n \\le 100$$\n",
    "\n",
    "**Output Format**  \n",
    "Print Weird if the number is weird; otherwise, print Not Weird.\n",
    "\n",
    "\n",
    "\n",
    "\n"
   ]
  },
  {
   "cell_type": "markdown",
   "metadata": {},
   "source": [
    "### 2. 代码"
   ]
  },
  {
   "cell_type": "markdown",
   "metadata": {},
   "source": [
    "```java\n",
    "import java.io.*;\n",
    "import java.math.*;\n",
    "import java.security.*;\n",
    "import java.text.*;\n",
    "import java.util.*;\n",
    "import java.util.concurrent.*;\n",
    "import java.util.regex.*;\n",
    "\n",
    "public class Solution {\n",
    "\n",
    "\n",
    "\n",
    "    private static final Scanner scanner = new Scanner(System.in);\n",
    "\n",
    "    public static void main(String[] args) {\n",
    "        int N = scanner.nextInt();\n",
    "        scanner.skip(\"(\\r\\n|[\\n\\r\\u2028\\u2029\\u0085])?\");\n",
    "        \n",
    "        String ans = \"\";\n",
    "\t    if(N%2==0 && ((N>=2 && N<=5) || N>20)) {\n",
    "            ans = \"Not Weird\";\n",
    "        } else {\n",
    "     \t    ans = \"Weird\";\n",
    "        }\n",
    "        System.out.println(ans);\n",
    "        \n",
    "        scanner.close();\n",
    "    }\n",
    "}\n",
    "```"
   ]
  }
 ],
 "metadata": {
  "kernelspec": {
   "display_name": "Python 3",
   "language": "python",
   "name": "python3"
  },
  "language_info": {
   "codemirror_mode": {
    "name": "ipython",
    "version": 3
   },
   "file_extension": ".py",
   "mimetype": "text/x-python",
   "name": "python",
   "nbconvert_exporter": "python",
   "pygments_lexer": "ipython3",
   "version": "3.7.3"
  }
 },
 "nbformat": 4,
 "nbformat_minor": 2
}
