{
 "cells": [
  {
   "cell_type": "markdown",
   "metadata": {},
   "source": [
    "### 一、问题描述"
   ]
  },
  {
   "cell_type": "markdown",
   "metadata": {},
   "source": [
    "Most HackerRank challenges require you to read input from ```stdin``` (standard input) and write output to ```stdout``` (standard output).\n",
    "\n",
    "One popular way to read input from stdin is by using the ```Scanner class``` and specifying the Input Stream as System.in. For example:"
   ]
  },
  {
   "cell_type": "markdown",
   "metadata": {},
   "source": [
    "```java\n",
    "Scanner scanner = new Scanner(System.in);\n",
    "String myString = scanner.next();\n",
    "int myInt = scanner.nextInt();\n",
    "scanner.close();\n",
    "\n",
    "System.out.println(\"myString is: \" + myString);\n",
    "System.out.println(\"myInt is: \" + myInt);\n",
    "```"
   ]
  },
  {
   "cell_type": "markdown",
   "metadata": {},
   "source": [
    "The code above creates a Scanner object named  and uses it to read a String and an int. It then closes the Scanner object because there is no more input to read, and prints to stdout using System.out.println(String). So, if our input is:"
   ]
  },
  {
   "cell_type": "markdown",
   "metadata": {},
   "source": [
    "```java\n",
    "Hi 5\n",
    "```"
   ]
  },
  {
   "cell_type": "markdown",
   "metadata": {},
   "source": [
    "Our code will print:\n",
    "\n",
    "```java\n",
    "myString is: Hi\n",
    "myInt is: 5\n",
    "```\n",
    "\n",
    "Alternatively, you can use the [BufferedReader class](https://docs.oracle.com/javase/8/docs/api/java/io/BufferedReader.html).\n",
    "\n"
   ]
  },
  {
   "cell_type": "markdown",
   "metadata": {},
   "source": [
    "### 二、任务"
   ]
  },
  {
   "cell_type": "markdown",
   "metadata": {},
   "source": [
    "**Task**\n",
    "In this challenge, you must read  integers from stdin and then print them to stdout. Each integer must be printed on a new line. To make the problem a little easier, a portion of the code is provided for you in the editor below.\n",
    "\n",
    "**Input Format**\n",
    "\n",
    "There are  lines of input, and each line contains a single integer.\n",
    "\n",
    "**Sample Input**\n",
    "\n",
    "```\n",
    "42\n",
    "100\n",
    "125\n",
    "```\n",
    "\n",
    "**Sample Output**\n",
    "\n",
    "```\n",
    "42\n",
    "100\n",
    "125\n",
    "```"
   ]
  },
  {
   "cell_type": "markdown",
   "metadata": {},
   "source": [
    "### 三、代码"
   ]
  },
  {
   "cell_type": "code",
   "execution_count": 3,
   "metadata": {},
   "outputs": [],
   "source": [
    "import java.util.*;\n",
    "import java.util.Scanner;\n",
    "\n",
    "public class Solution {\n",
    "\n",
    "    public static void main(String[] args) {\n",
    "        Scanner scan = new Scanner(System.in);\n",
    "        int a = scan.nextInt();\n",
    "        int b = scan.nextInt();\n",
    "        int c = scan.nextInt();\n",
    "\n",
    "        System.out.println(a);\n",
    "        System.out.println(b);\n",
    "        System.out.println(c);\n",
    "    }\n",
    "}"
   ]
  },
  {
   "cell_type": "code",
   "execution_count": 4,
   "metadata": {},
   "outputs": [
    {
     "name": "stdout",
     "output_type": "stream",
     "text": [
      "42\n",
      "100\n",
      "125\n",
      "42\n",
      "100\n",
      "125\n"
     ]
    }
   ],
   "source": [
    "Scanner scan = new Scanner(System.in);\n",
    "int a = scan.nextInt();\n",
    "int b = scan.nextInt();\n",
    "int c = scan.nextInt();\n",
    "\n",
    "System.out.println(a);\n",
    "System.out.println(b);\n",
    "System.out.println(c);"
   ]
  },
  {
   "cell_type": "code",
   "execution_count": null,
   "metadata": {},
   "outputs": [],
   "source": []
  },
  {
   "cell_type": "code",
   "execution_count": null,
   "metadata": {},
   "outputs": [],
   "source": []
  },
  {
   "cell_type": "code",
   "execution_count": null,
   "metadata": {},
   "outputs": [],
   "source": []
  }
 ],
 "metadata": {
  "kernelspec": {
   "display_name": "Java",
   "language": "java",
   "name": "java"
  },
  "language_info": {
   "codemirror_mode": "java",
   "file_extension": ".jshell",
   "mimetype": "text/x-java-source",
   "name": "Java",
   "pygments_lexer": "java",
   "version": "11.0.6+8-LTS"
  }
 },
 "nbformat": 4,
 "nbformat_minor": 2
}
