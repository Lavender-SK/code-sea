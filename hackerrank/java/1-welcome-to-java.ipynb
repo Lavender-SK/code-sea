{
 "cells": [
  {
   "cell_type": "markdown",
   "metadata": {},
   "source": [
    "### 1. 问题描述"
   ]
  },
  {
   "cell_type": "markdown",
   "metadata": {},
   "source": [
    "Welcome to the world of Java! In this challenge, we practice printing to stdout.\n",
    "\n",
    "The code stubs in your editor declare a Solution class and a main method. Complete the main method by copying the two lines of code below and pasting them inside the body of your main method.\n",
    "\n",
    "```java\n",
    "System.out.println(\"Hello, World.\");\n",
    "System.out.println(\"Hello, Java.\");\n",
    "```\n",
    "\n",
    "**Input Format**\n",
    "\n",
    "There is no input for this challenge.\n",
    "\n",
    "**Output Format**\n",
    "\n",
    "You must print two lines of output:\n",
    "\n",
    "Print Hello, World. on the first line.\n",
    "Print Hello, Java. on the second line.\n",
    "\n",
    "**Sample Output**\n",
    "\n",
    "```text\n",
    "Hello, World.\n",
    "Hello, Java.\n",
    "```"
   ]
  },
  {
   "cell_type": "markdown",
   "metadata": {},
   "source": [
    "### 代码"
   ]
  },
  {
   "cell_type": "markdown",
   "metadata": {},
   "source": [
    "```java\n",
    "public class Solution {\n",
    "\n",
    "    public static void main(String[] args) {\n",
    "        /* Enter your code here. Print output to STDOUT. Your class should be named Solution. */\n",
    "        System.out.println(\"Hello, World.\");\n",
    "        System.out.println(\"Hello, Java.\");\n",
    "    }\n",
    "}\n",
    "```"
   ]
  }
 ],
 "metadata": {
  "kernelspec": {
   "display_name": "Python 3",
   "language": "python",
   "name": "python3"
  },
  "language_info": {
   "codemirror_mode": {
    "name": "ipython",
    "version": 3
   },
   "file_extension": ".py",
   "mimetype": "text/x-python",
   "name": "python",
   "nbconvert_exporter": "python",
   "pygments_lexer": "ipython3",
   "version": "3.6.5"
  }
 },
 "nbformat": 4,
 "nbformat_minor": 2
}
