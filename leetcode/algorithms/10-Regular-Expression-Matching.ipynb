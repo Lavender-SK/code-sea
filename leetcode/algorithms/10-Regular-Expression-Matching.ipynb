{
 "cells": [
  {
   "cell_type": "markdown",
   "metadata": {},
   "source": [
    "### 1. 题目描述"
   ]
  },
  {
   "cell_type": "markdown",
   "metadata": {},
   "source": [
    "Given an input string (`s`) and a pattern (`p`), implement regular expression matching with support for `'.'` and `'*'`."
   ]
  },
  {
   "cell_type": "markdown",
   "metadata": {},
   "source": [
    "`\n",
    "'.' Matches any single character.\n",
    "'*' Matches zero or more of the preceding element.\n",
    "`"
   ]
  },
  {
   "cell_type": "markdown",
   "metadata": {},
   "source": [
    "The matching should cover the entire input string (not partial)."
   ]
  },
  {
   "cell_type": "markdown",
   "metadata": {},
   "source": [
    "**Note:**\n",
    "\n",
    "- s could be empty and contains only lowercase letters a-z.\n",
    "- p could be empty and contains only lowercase letters a-z, and characters like . or *."
   ]
  },
  {
   "cell_type": "markdown",
   "metadata": {},
   "source": [
    "**Example 1:**\n",
    "\n",
    "```\n",
    "Input:\n",
    "s = \"aa\"\n",
    "p = \"a\"\n",
    "Output: false\n",
    "Explanation: \"a\" does not match the entire string \"aa\"\n",
    "```"
   ]
  },
  {
   "cell_type": "markdown",
   "metadata": {},
   "source": [
    "**Example 2:**\n",
    "\n",
    "```\n",
    "Input:\n",
    "s = \"aa\"\n",
    "p = \"a*\"\n",
    "Output: true\n",
    "Explanation: '*' means zero or more of the precedeng element, 'a'. Therefore, by repeating 'a' once, it becomes \"aa\".\n",
    "```"
   ]
  },
  {
   "cell_type": "markdown",
   "metadata": {},
   "source": [
    "**Example 3:**\n",
    "\n",
    "```\n",
    "Input:\n",
    "s = \"ab\"\n",
    "p = \".*\"\n",
    "Output: true\n",
    "Explanation: \".*\" means \"zero or more (*) of any character (.)\".\n",
    "```"
   ]
  },
  {
   "cell_type": "markdown",
   "metadata": {},
   "source": [
    "**Example 4:**\n",
    "\n",
    "```\n",
    "Input:\n",
    "s = \"aab\"\n",
    "p = \"c*a*b\"\n",
    "Output: true\n",
    "Explanation: c can be repeated 0 times, a can be repeated 1 time. Therefore it matches \"aab\".\n",
    "```"
   ]
  },
  {
   "cell_type": "markdown",
   "metadata": {},
   "source": [
    "**Example 5:**\n",
    "\n",
    "```\n",
    "Input:\n",
    "s = \"mississippi\"\n",
    "p = \"mis*is*p*.\"\n",
    "Output: false\n",
    "```"
   ]
  },
  {
   "cell_type": "markdown",
   "metadata": {},
   "source": [
    "### 2. python 内置 re 模块"
   ]
  },
  {
   "cell_type": "code",
   "execution_count": 2,
   "metadata": {},
   "outputs": [],
   "source": [
    "class Solution(object):\n",
    "    def isMatch(self, s, p):\n",
    "        \"\"\"\n",
    "        :type s: str\n",
    "        :type p: str\n",
    "        :rtype: bool\n",
    "        \"\"\"\n",
    "        import re\n",
    "        \n",
    "        return re.match('^' + p + '$', s) != None\n"
   ]
  },
  {
   "cell_type": "code",
   "execution_count": 3,
   "metadata": {},
   "outputs": [],
   "source": [
    "solution = Solution()\n",
    "\n",
    "case_1 = {\"s\":\"aa\", \"p\":\"a\"}\n",
    "result1 = solution.isMatch(case_1[\"s\"], case_1[\"p\"])\n",
    "\n",
    "case_2 = {\"s\":\"aa\", \"p\":\"a*\"}\n",
    "result2 = solution.isMatch(case_2[\"s\"], case_2[\"p\"])\n",
    "\n",
    "case_3 = {\"s\":\"ab\", \"p\":\".*\"}\n",
    "result3 = solution.isMatch(case_3[\"s\"], case_3[\"p\"])\n",
    "\n",
    "case_4 = {\"s\":\"aab\", \"p\":\"c*a*b\"}\n",
    "result4 = solution.isMatch(case_4[\"s\"], case_4[\"p\"])\n",
    "\n",
    "case_5 = {\"s\":\"mississippi\", \"p\":\"mis*is*p*.\"}\n",
    "result5 = solution.isMatch(case_5[\"s\"], case_5[\"p\"])\n",
    "\n",
    "#import IPython\n",
    "#Ipython.display.display(result1)"
   ]
  },
  {
   "cell_type": "markdown",
   "metadata": {},
   "source": [
    "### 3. 动态规划法"
   ]
  },
  {
   "cell_type": "markdown",
   "metadata": {},
   "source": [
    "https://www.cnblogs.com/willaty/p/8134672.html"
   ]
  },
  {
   "cell_type": "markdown",
   "metadata": {},
   "source": [
    "思路类似于**最长公共子序列**。\n",
    "\n",
    "设 输入字符串为S，模式字符串为P。\n",
    "\n",
    "设 dp[i][j] 表示 S[1:i] 与 P[1:j] 是否匹配。\n",
    "\n",
    "对于 S[1:i]，可以设置为 S[1:i]=S[1:i-1]S[i]。\n",
    "\n",
    "对于 P[1:j]，可以设置为 P[1:j]=P[1:j-2]P[j-1]P[j]。\n",
    "\n",
    "则，有如下几种情况：\n",
    "\n",
    "- 当 S[i] == P[j] 或者 P[j] == \".\" 时 \n",
    "    - dp[i][j] = dp[i-1][j-1] \n",
    "- 当 P[j] == \"*\" 时\n",
    "    - 当 S[i] != P[j-1] 时 \n",
    "        - dp[i][j] = dp[i][j-2]\n",
    "    - 当 S[i] == P[j-1] 时\n",
    "        - dp[i][j] = dp[i][j-2] or dp[i-1][j-1] or dp[i][j-1] or dp[i-1][j-2] or dp[i-1][j]\n",
    "\n",
    "\n"
   ]
  },
  {
   "cell_type": "code",
   "execution_count": null,
   "metadata": {},
   "outputs": [],
   "source": [
    "class Solution(object):\n",
    "    def isMatch(self, s, p):\n",
    "        \"\"\" :type s: str :type p: str :rtype: bool \"\"\"\n",
    "        dp = [[False for _ in range(len(p) + 1)] for _ in range(len(s) + 1)]\n",
    "        dp[0][0] = True\n",
    "        for j in range(2,len(p) + 1):\n",
    "            if p[j - 1] == '*':\n",
    "                dp[0][j] = dp[0][j - 2]  \n",
    "        for i in range(1,len(s) + 1):\n",
    "            for j in range(1,len(p) + 1):\n",
    "                if p[j - 1] == '*':\n",
    "                    dp[i][j] = dp[i][j-1] or dp[i][j-2] or (dp[i-1][j] and (s[i-1] == p[j-2] or p[j-2] == '.'))\n",
    "                elif p[j-1] == '.' or s[i-1] == p[j - 1]:\n",
    "                    dp[i][j] = dp[i-1][j-1]\n",
    "\n",
    "        return dp[len(s)][len(p)]"
   ]
  }
 ],
 "metadata": {
  "kernelspec": {
   "display_name": "Python [conda env:sk]",
   "language": "python",
   "name": "conda-env-sk-py"
  },
  "language_info": {
   "codemirror_mode": {
    "name": "ipython",
    "version": 3
   },
   "file_extension": ".py",
   "mimetype": "text/x-python",
   "name": "python",
   "nbconvert_exporter": "python",
   "pygments_lexer": "ipython3",
   "version": "3.6.7"
  }
 },
 "nbformat": 4,
 "nbformat_minor": 2
}
