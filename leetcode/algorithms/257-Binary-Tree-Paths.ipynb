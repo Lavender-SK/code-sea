{
 "cells": [
  {
   "cell_type": "markdown",
   "metadata": {},
   "source": [
    "#### 1. 题目描述"
   ]
  },
  {
   "cell_type": "markdown",
   "metadata": {},
   "source": [
    "Given a binary tree, return all root-to-leaf paths.\n",
    "\n",
    "**Note**: A leaf is a node with no children.\n",
    "\n",
    "Example:\n",
    "\n",
    "```text\n",
    "Input:\n",
    "\n",
    "   1\n",
    " /   \\\n",
    "2     3\n",
    " \\\n",
    "  5\n",
    "\n",
    "Output: [\"1->2->5\", \"1->3\"]\n",
    "\n",
    "Explanation: All root-to-leaf paths are: 1->2->5, 1->3\n",
    "```"
   ]
  },
  {
   "cell_type": "markdown",
   "metadata": {},
   "source": [
    "#### 2. 题目分析"
   ]
  },
  {
   "cell_type": "markdown",
   "metadata": {},
   "source": [
    "1. 方法1:  采用`深度优先`遍历二叉树。遍历时，采用`递归`的方法进行遍历。将历史上的遍历到的结点，给到递归函数。（面试的时候，没有想到。活该自己技术水平不够）\n",
    "2. 方法2:  采用`栈`的方式，存储遍历的结点。"
   ]
  },
  {
   "cell_type": "markdown",
   "metadata": {},
   "source": [
    "#### 3. 代码实现"
   ]
  },
  {
   "cell_type": "markdown",
   "metadata": {},
   "source": [
    "递归方法"
   ]
  },
  {
   "cell_type": "code",
   "execution_count": 1,
   "metadata": {},
   "outputs": [],
   "source": [
    "# Definition for a binary tree node.\n",
    "class TreeNode(object):\n",
    "    def __init__(self, x):\n",
    "        self.val = x \n",
    "        self.left = None\n",
    "        self.right = None\n",
    "        \n",
    "node1 = TreeNode(\"1\")\n",
    "node2 = TreeNode(\"2\")\n",
    "node3 = TreeNode(\"3\")\n",
    "node5 = TreeNode(\"5\")\n",
    "\n",
    "node1.left = node2\n",
    "node1.right = node3\n",
    "\n",
    "node2.right = node5"
   ]
  },
  {
   "cell_type": "code",
   "execution_count": 36,
   "metadata": {},
   "outputs": [],
   "source": [
    "class Solution(object):\n",
    "    def binaryTreePaths(self, root):\n",
    "        \"\"\"\n",
    "        :type root: TreeNode\n",
    "        :rtype: List[str]\n",
    "        \"\"\"\n",
    "        def helper(root, path, res):\n",
    "            if root.left is None and root.right is None:\n",
    "                res.append(path+str(root.val))\n",
    "                return \n",
    "            if root.left:\n",
    "                helper(root.left, path + str(root.val)+'->', res)\n",
    "            if root.right:\n",
    "                helper(root.right, path + str(root.val)+'->', res)\n",
    "\n",
    "        if root is None:\n",
    "            return []\n",
    "        l = []\n",
    "        helper(root, '', l)\n",
    "        return l"
   ]
  },
  {
   "cell_type": "code",
   "execution_count": 37,
   "metadata": {},
   "outputs": [
    {
     "data": {
      "text/plain": [
       "['1->2->5', '1->3']"
      ]
     },
     "execution_count": 37,
     "metadata": {},
     "output_type": "execute_result"
    }
   ],
   "source": [
    "solution = Solution()\n",
    "result = solution.binaryTreePaths(node1)\n",
    "result"
   ]
  },
  {
   "cell_type": "markdown",
   "metadata": {},
   "source": [
    "栈方法"
   ]
  },
  {
   "cell_type": "code",
   "execution_count": 34,
   "metadata": {},
   "outputs": [],
   "source": [
    "class Solution(object):\n",
    "    def binaryTreePaths(self, root):\n",
    "        \"\"\"\n",
    "        :type root: TreeNode\n",
    "        :rtype: List[str]\n",
    "        \"\"\"\n",
    "        \n",
    "        res, stack = [], [(root, \"\")]\n",
    "        \n",
    "        while stack:\n",
    "            node, path = stack.pop()\n",
    "            \n",
    "            if node.left is None and node.right is None:\n",
    "                res.append(path + node.val)\n",
    "            \n",
    "            if node.left is not None:\n",
    "                stack.append((node.left, path+node.val+\"->\"))\n",
    "            \n",
    "            if node.right is not None:\n",
    "                stack.append((node.right, path+node.val+\"->\"))\n",
    "        \n",
    "        return res"
   ]
  },
  {
   "cell_type": "code",
   "execution_count": 28,
   "metadata": {},
   "outputs": [
    {
     "data": {
      "text/plain": [
       "['1->3', '1->2->5']"
      ]
     },
     "execution_count": 28,
     "metadata": {},
     "output_type": "execute_result"
    }
   ],
   "source": [
    "solution = Solution()\n",
    "result = solution.binaryTreePaths(node1)\n",
    "result"
   ]
  },
  {
   "cell_type": "code",
   "execution_count": null,
   "metadata": {},
   "outputs": [],
   "source": []
  }
 ],
 "metadata": {
  "kernelspec": {
   "display_name": "Python [conda env:sk]",
   "language": "python",
   "name": "conda-env-sk-py"
  },
  "language_info": {
   "codemirror_mode": {
    "name": "ipython",
    "version": 3
   },
   "file_extension": ".py",
   "mimetype": "text/x-python",
   "name": "python",
   "nbconvert_exporter": "python",
   "pygments_lexer": "ipython3",
   "version": "3.6.7"
  }
 },
 "nbformat": 4,
 "nbformat_minor": 2
}
