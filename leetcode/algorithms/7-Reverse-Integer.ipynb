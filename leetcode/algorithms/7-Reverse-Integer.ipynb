{
 "cells": [
  {
   "cell_type": "markdown",
   "metadata": {},
   "source": [
    "### 1. 题目描述"
   ]
  },
  {
   "cell_type": "markdown",
   "metadata": {},
   "source": [
    "Given a 32-bit signed integer, reverse digits of an integer.\n",
    "\n",
    "**Example 1:**\n",
    "\n",
    "```text\n",
    "Input: 123\n",
    "Output: 321\n",
    "```\n",
    "\n",
    "**Example 2:**\n",
    "\n",
    "```text\n",
    "Input: -123\n",
    "Output: -321\n",
    "```\n",
    "\n",
    "**Example 3:**\n",
    "\n",
    "```text\n",
    "Input: 120\n",
    "Output: 21\n",
    "```\n",
    "\n",
    "**Note:**\n",
    "Assume we are dealing with an environment which could only store integers within the 32-bit signed integer range: [−2^31,  2^31 − 1]. For the purpose of this problem, assume that your function returns 0 when the reversed integer overflows.\n",
    "\n"
   ]
  },
  {
   "cell_type": "markdown",
   "metadata": {},
   "source": [
    "### 2. 题目分析"
   ]
  },
  {
   "cell_type": "markdown",
   "metadata": {},
   "source": [
    "采用取余数的方法，将整型数据拆分成字符列表，然后存储到栈中，最后倒序。"
   ]
  },
  {
   "cell_type": "markdown",
   "metadata": {},
   "source": [
    "### 3. 代码实现"
   ]
  },
  {
   "cell_type": "markdown",
   "metadata": {},
   "source": [
    "#### 3.1 python"
   ]
  },
  {
   "cell_type": "code",
   "execution_count": 31,
   "metadata": {},
   "outputs": [],
   "source": [
    "class Solution(object):\n",
    "    def reverse(self, x):\n",
    "        \"\"\"\n",
    "        :type x: int\n",
    "        :rtype: int\n",
    "        \"\"\"\n",
    "        \n",
    "        if x == 0 or x > 2**31-1 or x < -2**31:\n",
    "            return 0\n",
    "        \n",
    "        \n",
    "        sign_flag = False\n",
    "        if x < 0:\n",
    "            sign_flag = True\n",
    "            x = -x \n",
    "        \n",
    "        stack = []\n",
    "        \n",
    "        while x:\n",
    "            stack.append(str(x % 10))\n",
    "            x = x // 10\n",
    "        \n",
    "        result = int(\"\".join(stack))\n",
    "        \n",
    "        if sign_flag is True:\n",
    "            result = -result\n",
    "        \n",
    "        if result > 2**31-1 or result < -2**31:\n",
    "            return 0\n",
    "        \n",
    "        return result"
   ]
  },
  {
   "cell_type": "code",
   "execution_count": 32,
   "metadata": {},
   "outputs": [
    {
     "data": {
      "text/plain": [
       "0"
      ]
     },
     "execution_count": 32,
     "metadata": {},
     "output_type": "execute_result"
    }
   ],
   "source": [
    "solution = Solution()\n",
    "\n",
    "result = solution.reverse(1534236469)\n",
    "\n",
    "result"
   ]
  },
  {
   "cell_type": "markdown",
   "metadata": {},
   "source": [
    "#### 3.2 java"
   ]
  },
  {
   "cell_type": "code",
   "execution_count": null,
   "metadata": {},
   "outputs": [],
   "source": [
    "class Solution {\n",
    "    public int reverse(int x) {\n",
    "        int rev = 0;\n",
    "        \n",
    "        while(x != 0) {\n",
    "            int pop = x % 10;\n",
    "            x /= 10;\n",
    "            \n",
    "            if (rev > Integer.MAX_VALUE/10 || (rev == Integer.MAX_VALUE / 10 && pop > 7)) return 0;\n",
    "            if (rev < Integer.MIN_VALUE/10 || (rev == Integer.MIN_VALUE / 10 && pop < -8)) return 0;\n",
    "            rev = rev * 10 + pop;\n",
    "        }\n",
    "    }\n",
    "}"
   ]
  },
  {
   "cell_type": "markdown",
   "metadata": {},
   "source": [
    "#### 3.3 best solution python"
   ]
  },
  {
   "cell_type": "code",
   "execution_count": 35,
   "metadata": {},
   "outputs": [],
   "source": [
    "import math\n",
    "class Solution(object):\n",
    "    def reverse(self, x):\n",
    "        \"\"\"\n",
    "        :type x: int\n",
    "        :rtype: int\n",
    "        \"\"\"\n",
    "\n",
    "        if x == 0:\n",
    "            return 0\n",
    "\n",
    "        ret = int(('-' if x < 0 else '') + str(abs(x))[::-1].lstrip(\"0\"))\n",
    "\n",
    "        if abs(ret) > (2 ** 31 - 1):\n",
    "            return 0\n",
    "        \n",
    "        return ret"
   ]
  }
 ],
 "metadata": {
  "kernelspec": {
   "display_name": "Python [conda env:sk]",
   "language": "python",
   "name": "conda-env-sk-py"
  },
  "language_info": {
   "codemirror_mode": {
    "name": "ipython",
    "version": 3
   },
   "file_extension": ".py",
   "mimetype": "text/x-python",
   "name": "python",
   "nbconvert_exporter": "python",
   "pygments_lexer": "ipython3",
   "version": "3.6.7"
  }
 },
 "nbformat": 4,
 "nbformat_minor": 2
}
