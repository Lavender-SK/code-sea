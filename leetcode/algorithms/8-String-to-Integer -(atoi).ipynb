{
 "cells": [
  {
   "cell_type": "markdown",
   "metadata": {},
   "source": [
    "### 1. 题目描述"
   ]
  },
  {
   "cell_type": "markdown",
   "metadata": {},
   "source": [
    "Implement atoi which converts a string to an integer.\n",
    "\n",
    "The function first discards as many whitespace characters as necessary until the first non-whitespace character is found. Then, starting from this character, takes an optional initial plus or minus sign followed by as many numerical digits as possible, and interprets them as a numerical value.\n",
    "\n",
    "The string can contain additional characters after those that form the integral number, which are ignored and have no effect on the behavior of this function.\n",
    "\n",
    "If the first sequence of non-whitespace characters in str is not a valid integral number, or if no such sequence exists because either str is empty or it contains only whitespace characters, no conversion is performed.\n",
    "\n",
    "If no valid conversion could be performed, a zero value is returned.\n",
    "\n",
    "**Note:**\n",
    "\n",
    "Only the space character `' '` is considered as whitespace character.\n",
    "Assume we are dealing with an environment which could only store integers within the 32-bit signed integer range: [−2^31,  2^31 − 1]. If the numerical value is out of the range of representable values, INT_MAX (2^31 − 1) or INT_MIN (−2^31) is returned.\n",
    "\n",
    "\n",
    "**Example 1:**\n",
    "\n",
    "```text\n",
    "Input: \"42\"\n",
    "Output: 42\n",
    "```\n",
    "\n",
    "**Example 2:**\n",
    "\n",
    "```\n",
    "Input: \"   -42\"\n",
    "Output: -42\n",
    "```\n",
    "\n",
    "**Explanation:** The first non-whitespace character is '-', which is the minus sign.\n",
    "             Then take as many numerical digits as possible, which gets 42.\n",
    "             \n",
    "**Example 3:**\n",
    "\n",
    "```text\n",
    "Input: \"4193 with words\"\n",
    "Output: 4193\n",
    "```\n",
    "**Explanation:** Conversion stops at digit '3' as the next character is not a numerical digit.\n",
    "\n",
    "\n",
    "**Example 4:**\n",
    "\n",
    "```text\n",
    "Input: \"words and 987\"\n",
    "Output: 0\n",
    "```\n",
    "**Explanation:** The first non-whitespace character is 'w', which is not a numerical \n",
    "             digit or a +/- sign. Therefore no valid conversion could be performed.\n",
    "\n",
    "**Example 5:**\n",
    "\n",
    "```text\n",
    "Input: \"-91283472332\"\n",
    "Output: -2147483648\n",
    "```\n",
    "**Explanation:** The number \"-91283472332\" is out of the range of a 32-bit signed integer.\n",
    "             Thefore INT_MIN (−231) is returned."
   ]
  },
  {
   "cell_type": "markdown",
   "metadata": {},
   "source": [
    "### 2. 题目分析 "
   ]
  },
  {
   "cell_type": "code",
   "execution_count": null,
   "metadata": {},
   "outputs": [],
   "source": []
  },
  {
   "cell_type": "markdown",
   "metadata": {},
   "source": [
    "### 3. 代码实现"
   ]
  },
  {
   "cell_type": "markdown",
   "metadata": {},
   "source": [
    "#### 3.1 python"
   ]
  },
  {
   "cell_type": "code",
   "execution_count": 71,
   "metadata": {},
   "outputs": [],
   "source": [
    "class Solution(object):\n",
    "    def myAtoi(self, str):\n",
    "        \"\"\"\n",
    "        :type str: str\n",
    "        :rtype: int\n",
    "        \"\"\"\n",
    "        \n",
    "        str = str.strip()\n",
    "        \n",
    "        letter_list = []\n",
    "        #print(str)\n",
    "        for letter in str:\n",
    "            if (letter >= \"0\" and letter <= \"9\") or (letter == \"-\" and len(letter_list) == 0) or (letter == \"+\" and len(letter_list) == 0):\n",
    "                letter_list.append(letter)\n",
    "            else:\n",
    "                break\n",
    "          \n",
    "        #print(letter_list)\n",
    "        \n",
    "        if len(letter_list) == 0:\n",
    "            return 0\n",
    "        if len(letter_list) == 1 and letter_list[0] == \"-\":\n",
    "            return 0\n",
    "        if len(letter_list) == 1 and letter_list[0] == \"+\":\n",
    "            return 0\n",
    "        \n",
    "        result = int(\"\".join(letter_list))\n",
    "        \n",
    "        if result > 2**31-1:\n",
    "            result = 2**31 - 1\n",
    "        if result < -2**31:\n",
    "            result = -2**31\n",
    "        \n",
    "        return result"
   ]
  },
  {
   "cell_type": "code",
   "execution_count": 64,
   "metadata": {},
   "outputs": [],
   "source": [
    "solution = Solution()"
   ]
  },
  {
   "cell_type": "code",
   "execution_count": 65,
   "metadata": {
    "scrolled": true
   },
   "outputs": [
    {
     "name": "stdout",
     "output_type": "stream",
     "text": [
      "42\n",
      "['4', '2']\n"
     ]
    },
    {
     "data": {
      "text/plain": [
       "42"
      ]
     },
     "execution_count": 65,
     "metadata": {},
     "output_type": "execute_result"
    }
   ],
   "source": [
    "case_1 = \"42\"\n",
    "solution.myAtoi(case_1)"
   ]
  },
  {
   "cell_type": "code",
   "execution_count": 66,
   "metadata": {},
   "outputs": [
    {
     "name": "stdout",
     "output_type": "stream",
     "text": [
      "-42\n",
      "['-', '4', '2']\n"
     ]
    },
    {
     "data": {
      "text/plain": [
       "-42"
      ]
     },
     "execution_count": 66,
     "metadata": {},
     "output_type": "execute_result"
    }
   ],
   "source": [
    "case_2 = \"   -42\"\n",
    "solution.myAtoi(case_2)"
   ]
  },
  {
   "cell_type": "code",
   "execution_count": 67,
   "metadata": {},
   "outputs": [
    {
     "name": "stdout",
     "output_type": "stream",
     "text": [
      "4193 with words\n",
      "['4', '1', '9', '3']\n"
     ]
    },
    {
     "data": {
      "text/plain": [
       "4193"
      ]
     },
     "execution_count": 67,
     "metadata": {},
     "output_type": "execute_result"
    }
   ],
   "source": [
    "case_3 = \"4193 with words\"\n",
    "solution.myAtoi(case_3)"
   ]
  },
  {
   "cell_type": "code",
   "execution_count": 68,
   "metadata": {},
   "outputs": [
    {
     "name": "stdout",
     "output_type": "stream",
     "text": [
      "words and 987\n",
      "[]\n"
     ]
    },
    {
     "data": {
      "text/plain": [
       "0"
      ]
     },
     "execution_count": 68,
     "metadata": {},
     "output_type": "execute_result"
    }
   ],
   "source": [
    "case_4 = \"words and 987\"\n",
    "solution.myAtoi(case_4)"
   ]
  },
  {
   "cell_type": "code",
   "execution_count": 69,
   "metadata": {},
   "outputs": [
    {
     "name": "stdout",
     "output_type": "stream",
     "text": [
      "-91283472332\n",
      "['-', '9', '1', '2', '8', '3', '4', '7', '2', '3', '3', '2']\n"
     ]
    },
    {
     "data": {
      "text/plain": [
       "-2147483648"
      ]
     },
     "execution_count": 69,
     "metadata": {},
     "output_type": "execute_result"
    }
   ],
   "source": [
    "case_5 = \"-91283472332\"\n",
    "solution.myAtoi(case_5)"
   ]
  },
  {
   "cell_type": "code",
   "execution_count": 70,
   "metadata": {},
   "outputs": [
    {
     "name": "stdout",
     "output_type": "stream",
     "text": [
      "-\n",
      "['-']\n"
     ]
    },
    {
     "data": {
      "text/plain": [
       "0"
      ]
     },
     "execution_count": 70,
     "metadata": {},
     "output_type": "execute_result"
    }
   ],
   "source": [
    "case_6 = \"-\"\n",
    "solution.myAtoi(case_6)"
   ]
  },
  {
   "cell_type": "code",
   "execution_count": null,
   "metadata": {},
   "outputs": [],
   "source": []
  }
 ],
 "metadata": {
  "kernelspec": {
   "display_name": "Python [conda env:sk]",
   "language": "python",
   "name": "conda-env-sk-py"
  },
  "language_info": {
   "codemirror_mode": {
    "name": "ipython",
    "version": 3
   },
   "file_extension": ".py",
   "mimetype": "text/x-python",
   "name": "python",
   "nbconvert_exporter": "python",
   "pygments_lexer": "ipython3",
   "version": "3.6.7"
  }
 },
 "nbformat": 4,
 "nbformat_minor": 2
}
