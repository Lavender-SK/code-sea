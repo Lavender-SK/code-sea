{
 "cells": [
  {
   "cell_type": "markdown",
   "metadata": {},
   "source": [
    "### 1. 题目描述"
   ]
  },
  {
   "cell_type": "markdown",
   "metadata": {},
   "source": [
    "Given a string containing just the characters '(' and ')', find the length of the longest valid (well-formed) parentheses substring."
   ]
  },
  {
   "cell_type": "markdown",
   "metadata": {},
   "source": [
    "**Example 1:**\n",
    "\n",
    "```text\n",
    "Input: \"(()\"\n",
    "Output: 2\n",
    "Explanation: The longest valid parentheses substring is \"()\"\n",
    "```\n"
   ]
  },
  {
   "cell_type": "markdown",
   "metadata": {},
   "source": [
    "**Example 2:**\n",
    "\n",
    "```text\n",
    "Input: \")()())\"\n",
    "Output: 4\n",
    "Explanation: The longest valid parentheses substring is \"()()\"\n",
    "```"
   ]
  },
  {
   "cell_type": "markdown",
   "metadata": {},
   "source": [
    "### 2. 题目分析"
   ]
  },
  {
   "cell_type": "markdown",
   "metadata": {},
   "source": [
    "#### 2.1 动态规划"
   ]
  },
  {
   "cell_type": "markdown",
   "metadata": {},
   "source": [
    "0. 用一个变量记录全局有效字串长度，即本题的答案。\n",
    "1. 采用动态规划的做法，用 dp[i] 表示以 i 下标为终点的最长连续有效字串长度。\n",
    "2. 从前往后遍历数组，如果遇到左括号，则 dp[i]=0。 遇到右括号，就跳过 dp[i-1] 个字符，去看第 i-dp[i]-1 位置那个字符的情况；如果是 \")\", 则说明和第 i 个位置的 \")\" 无法匹配，即连续性中断了，此时 dp[i] 重新开始为0；如果是 \"(\"，则说明和第 i 个位置的 \")\" 相匹配，此时 dp[i] = dp[i-1] + 2， 即 第 i 的位置 + 第 i-dp[i]-1 的位置 + 中间的位置，然后再加上第 i-dp[i] 位置。递归函数如下：\n",
    "\n",
    "$$\n",
    "\\begin{equation}\n",
    "dp[i] = \n",
    "\\left\\{\n",
    "             \\begin{array}{lr}\n",
    "             dp[i]=0, & if s[i] = \"(\"  \\\\\n",
    "             dp[i]=0, & if s[i] = \")\" and\\ s[i-1-dp[i-1]] = \")\"\\\\\n",
    "             (dp[i]=dp[i-1] + 2, dp[i] += dp[i-dp[i]])& if s[i] = \")\" and\\ s[i-1-dp[i-1]] = \"(\"\n",
    "             \\end{array}\n",
    "\\right.\n",
    "\\end{equation}\n",
    "$$\n",
    "\n",
    "3. 更新全局有效字串长度， ```result = max(result, dp[i])```, 即全局有效字串长度 ```result = max(dp)```\n"
   ]
  },
  {
   "cell_type": "markdown",
   "metadata": {},
   "source": [
    "### 3. 题目代码"
   ]
  },
  {
   "cell_type": "code",
   "execution_count": 22,
   "metadata": {},
   "outputs": [],
   "source": [
    "class Solution:\n",
    "    def longestValidParentheses(self, s):\n",
    "        \"\"\"\n",
    "        :type s: str\n",
    "        :rtype: int\n",
    "        \"\"\"\n",
    "        \n",
    "        s = \")\" + s\n",
    "        dp = [0] * len(s)\n",
    "        result = 0\n",
    "        \n",
    "        for inx, value in enumerate(s):\n",
    "            if inx == 0:\n",
    "                continue\n",
    "            if value == \")\":\n",
    "                if s[inx - 1 - dp[inx-1]] == \"(\":\n",
    "                    dp[inx] = dp[inx-1] + 2\n",
    "                    dp[inx] += dp[inx - dp[inx]]\n",
    "            result = max(result, dp[inx])\n",
    "                \n",
    "        return result"
   ]
  },
  {
   "cell_type": "markdown",
   "metadata": {},
   "source": [
    "### 4. 示例"
   ]
  },
  {
   "cell_type": "code",
   "execution_count": 20,
   "metadata": {},
   "outputs": [
    {
     "data": {
      "text/plain": [
       "2"
      ]
     },
     "execution_count": 20,
     "metadata": {},
     "output_type": "execute_result"
    }
   ],
   "source": [
    "solution = Solution()\n",
    "case_1 = \"(()\"\n",
    "solution.longestValidParentheses(case_1)"
   ]
  },
  {
   "cell_type": "code",
   "execution_count": 21,
   "metadata": {},
   "outputs": [
    {
     "data": {
      "text/plain": [
       "4"
      ]
     },
     "execution_count": 21,
     "metadata": {},
     "output_type": "execute_result"
    }
   ],
   "source": [
    "solution = Solution()\n",
    "case_2 = \")()())\"\n",
    "solution.longestValidParentheses(case_2)"
   ]
  }
 ],
 "metadata": {
  "kernelspec": {
   "display_name": "Python 3",
   "language": "python",
   "name": "python3"
  },
  "language_info": {
   "codemirror_mode": {
    "name": "ipython",
    "version": 3
   },
   "file_extension": ".py",
   "mimetype": "text/x-python",
   "name": "python",
   "nbconvert_exporter": "python",
   "pygments_lexer": "ipython3",
   "version": "3.6.5"
  }
 },
 "nbformat": 4,
 "nbformat_minor": 2
}
