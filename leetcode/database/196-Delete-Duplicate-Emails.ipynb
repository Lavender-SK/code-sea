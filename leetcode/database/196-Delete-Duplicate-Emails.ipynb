{
 "cells": [
  {
   "cell_type": "markdown",
   "metadata": {},
   "source": [
    "### 1. 题目描述"
   ]
  },
  {
   "cell_type": "markdown",
   "metadata": {},
   "source": [
    "Write a SQL query to **delete** all duplicate email entries in a table named **Person**, keeping only unique emails based on its *smallest* **Id**.\n",
    "\n",
    "| Id | Email            |\n",
    "|----|------------------|\n",
    "| 1  | john@example.com |\n",
    "| 2  | bob@example.com  |\n",
    "| 3  | john@example.com |\n",
    "\n",
    "\n",
    "Id is the primary key column for this table.\n",
    "\n",
    "For example, after running your query, the above Person table should have the following rows:\n",
    "\n",
    "\n",
    "| Id | Email            |\n",
    "|----|------------------|\n",
    "| 1  | john@example.com |\n",
    "| 2  | bob@example.com  |\n",
    "\n",
    "\n",
    "**Note**:\n",
    "\n",
    "Your output is the whole Person table after executing your sql. Use delete statement."
   ]
  },
  {
   "cell_type": "markdown",
   "metadata": {},
   "source": [
    "### 2. 解题方法"
   ]
  },
  {
   "cell_type": "markdown",
   "metadata": {},
   "source": [
    "#### 2.1 方法1"
   ]
  },
  {
   "cell_type": "markdown",
   "metadata": {},
   "source": [
    "```sql\n",
    "delete from Person\n",
    "where  Id not in (\n",
    "           select Id \n",
    "           from   ( select min(Id) as Id\n",
    "                    from   Person\n",
    "                    group by Email\n",
    "                  ) t1\n",
    "       )\n",
    ";\n",
    "```"
   ]
  },
  {
   "cell_type": "markdown",
   "metadata": {},
   "source": [
    "#### 2.2 方法2"
   ]
  },
  {
   "cell_type": "markdown",
   "metadata": {},
   "source": [
    "```sql\n",
    "delete t1\n",
    "from   Person t1, Person t2\n",
    "where  t1.Id > t2.Id\n",
    "       and t1.Email = t2.Email\n",
    "```"
   ]
  }
 ],
 "metadata": {
  "kernelspec": {
   "display_name": "Python [conda env:sk]",
   "language": "python",
   "name": "conda-env-sk-py"
  },
  "language_info": {
   "codemirror_mode": {
    "name": "ipython",
    "version": 3
   },
   "file_extension": ".py",
   "mimetype": "text/x-python",
   "name": "python",
   "nbconvert_exporter": "python",
   "pygments_lexer": "ipython3",
   "version": "3.6.7"
  }
 },
 "nbformat": 4,
 "nbformat_minor": 2
}
