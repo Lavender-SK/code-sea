{
 "cells": [
  {
   "cell_type": "markdown",
   "metadata": {},
   "source": [
    "### 1. 题目描述"
   ]
  },
  {
   "cell_type": "markdown",
   "metadata": {},
   "source": [
    "Given a **Weather** table, write a SQL query to find all dates' Ids with higher temperature compared to its previous (yesterday's) dates."
   ]
  },
  {
   "cell_type": "markdown",
   "metadata": {},
   "source": [
    "| Id(INT) | RecordDate(DATE) | Temperature(INT) |\n",
    "|---------|------------------|------------------|\n",
    "|       1 |       2015-01-01 |               10 |\n",
    "|       2 |       2015-01-02 |               25 |\n",
    "|       3 |       2015-01-03 |               20 |\n",
    "|       4 |       2015-01-04 |               30 |"
   ]
  },
  {
   "cell_type": "markdown",
   "metadata": {},
   "source": [
    "For example, return the following Ids for the above **Weather** table:"
   ]
  },
  {
   "cell_type": "markdown",
   "metadata": {},
   "source": [
    "| Id |\n",
    "|----|\n",
    "|  2 |\n",
    "|  4 |"
   ]
  },
  {
   "cell_type": "markdown",
   "metadata": {},
   "source": [
    "### 2. 题目解答"
   ]
  },
  {
   "cell_type": "markdown",
   "metadata": {},
   "source": [
    "#### 2.1 date_sub"
   ]
  },
  {
   "cell_type": "markdown",
   "metadata": {},
   "source": [
    "```sql\n",
    "select t1.Id\n",
    "from   Weather t1\n",
    "       inner join \n",
    "       Weather t2 on t2.RecordDate = date_sub(t1.RecordDate , interval 1 day)\n",
    "where  t2.Temperature < t1.Temperature\n",
    "```"
   ]
  },
  {
   "cell_type": "markdown",
   "metadata": {},
   "source": [
    "#### 2.2 date_diff"
   ]
  },
  {
   "cell_type": "markdown",
   "metadata": {},
   "source": [
    "```sql\n",
    "select t1.Id\n",
    "from   Weather t1\n",
    "       inner join \n",
    "       Weather t2 on datediff(t1.RecordDate, t2.RecordDate) = 1\n",
    "where  t2.Temperature < t1.Temperature\n",
    "```"
   ]
  },
  {
   "cell_type": "code",
   "execution_count": null,
   "metadata": {},
   "outputs": [],
   "source": []
  }
 ],
 "metadata": {
  "kernelspec": {
   "display_name": "Python [conda env:sk]",
   "language": "python",
   "name": "conda-env-sk-py"
  },
  "language_info": {
   "codemirror_mode": {
    "name": "ipython",
    "version": 3
   },
   "file_extension": ".py",
   "mimetype": "text/x-python",
   "name": "python",
   "nbconvert_exporter": "python",
   "pygments_lexer": "ipython3",
   "version": "3.6.7"
  }
 },
 "nbformat": 4,
 "nbformat_minor": 2
}
