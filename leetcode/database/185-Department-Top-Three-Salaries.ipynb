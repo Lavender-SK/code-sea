{
 "cells": [
  {
   "cell_type": "markdown",
   "metadata": {},
   "source": [
    "### 1. 题目描述"
   ]
  },
  {
   "cell_type": "markdown",
   "metadata": {},
   "source": [
    "The **Employee** table holds all employees. Every employee has an Id, and there is also a column for the department Id."
   ]
  },
  {
   "cell_type": "markdown",
   "metadata": {},
   "source": [
    "\n",
    "| Id | Name  | Salary | DepartmentId |\n",
    "|----|-------|--------|--------------|\n",
    "| 1  | Joe   | 70000  | 1         |\n",
    "| 2  | Henry | 80000  | 2         |\n",
    "| 3  | Sam   | 60000  | 2         |\n",
    "| 4  | Max   | 90000  | 1         |\n",
    "| 5  | Janet | 69000  | 1         |\n",
    "| 6  | Randy | 85000  | 1         |\n"
   ]
  },
  {
   "cell_type": "markdown",
   "metadata": {},
   "source": [
    "The **Department** table holds all departments of the company."
   ]
  },
  {
   "cell_type": "markdown",
   "metadata": {},
   "source": [
    "\n",
    "| Id | Name     |\n",
    "|----|----------|\n",
    "| 1  | IT       |\n",
    "| 2  | Sales    |\n"
   ]
  },
  {
   "cell_type": "markdown",
   "metadata": {},
   "source": [
    "Write a SQL query to find employees who earn the top three salaries in each of the department. For the above tables, your SQL query should return the following rows."
   ]
  },
  {
   "cell_type": "markdown",
   "metadata": {},
   "source": [
    "\n",
    "| Department | Employee | Salary |\n",
    "|------------|----------|--------|\n",
    "| IT         | Max      | 90000  |\n",
    "| IT         | Randy    | 85000  |\n",
    "| IT         | Joe      | 70000  |\n",
    "| Sales      | Henry    | 80000  |\n",
    "| Sales      | Sam      | 60000  |\n"
   ]
  },
  {
   "cell_type": "markdown",
   "metadata": {},
   "source": [
    "### 2. 创建数据"
   ]
  },
  {
   "cell_type": "markdown",
   "metadata": {},
   "source": [
    "```sql\n",
    "create database if not exists test;\n",
    "use test;\n",
    "\n",
    "create table `Employee` (\n",
    "    `Id` bigint,\n",
    "    `Name` varchar(10) ,\n",
    "    `Salary` int,\n",
    "    `DepartmentId` bigint\n",
    ") engine = InnoDB default charset = utf8;\n",
    "\n",
    "create table `Department` (\n",
    "    `Id` bigint, \n",
    "    `Name` varchar(10)\n",
    ")engine = InnoDB default charset = utf8;\n",
    "\n",
    "insert into `Employee` (`Id`, `Name`, `Salary`, `DepartmentId`)\n",
    "values (1,\t'Joe',\t70000,\t1)\n",
    ";\n",
    "\n",
    "insert into `Employee` (`Id`, `Name`, `Salary`, `DepartmentId`)\n",
    "values (2,\t'Henry',\t80000,\t2)\n",
    ";\n",
    "\n",
    "insert into `Employee` (`Id`, `Name`, `Salary`, `DepartmentId`)\n",
    "values (3,\t'Sam',\t60000,\t2)\n",
    ";\n",
    "\n",
    "insert into `Employee` (`Id`, `Name`, `Salary`, `DepartmentId`)\n",
    "values (4,\t'Max',\t90000,\t1)\n",
    ";\n",
    "\n",
    "insert into `Employee` (`Id`, `Name`, `Salary`, `DepartmentId`)\n",
    "values (5,\t'Janet',\t69000,\t1)\n",
    ";\n",
    "\n",
    "insert into `Employee` (`Id`, `Name`, `Salary`, `DepartmentId`)\n",
    "values (6,\t'Randy',\t85000,\t1)\n",
    ";\n",
    "\n",
    "insert into `Department` (`Id`, `Name`)\n",
    "values (1,\t'IT')\n",
    ";\n",
    "\n",
    "insert into `Department` (`Id`, `Name`)\n",
    "values (2,\t'Sales')\n",
    ";\n",
    "```"
   ]
  },
  {
   "cell_type": "markdown",
   "metadata": {},
   "source": [
    "### 3. 解题方法"
   ]
  },
  {
   "cell_type": "markdown",
   "metadata": {},
   "source": [
    "#### 3.1 相关子查询方法"
   ]
  },
  {
   "cell_type": "markdown",
   "metadata": {},
   "source": [
    "在相关子查询中，找到和外部查询得到的部门一样，并且比外部查询得到的薪水高的个数。"
   ]
  },
  {
   "cell_type": "markdown",
   "metadata": {},
   "source": [
    "```sql\n",
    "select  t2.Name as Department, t1.Name as Employee, t1.Salary as Salary\n",
    "from   Employee t1\n",
    "      inner join\n",
    "      Department t2 on t2.Id = t1.DepartmentId\n",
    "where  ( select count(distinct Salary)\n",
    "      from  Employee\n",
    "      where Salary > t1.Salary\n",
    "          and DepartmentId = t2.Id\n",
    "      ) < 3\n",
    "order by t2.Name, t1.Salary desc\n",
    ";\n",
    "```"
   ]
  },
  {
   "cell_type": "markdown",
   "metadata": {},
   "source": [
    "```sql\n",
    "select  t2.Name as Department, t1.Name as Employee, t1.Salary as Salary\n",
    "from   Employee t1\n",
    "      inner join\n",
    "      Department t2 on t2.Id = t1.DepartmentId\n",
    "where  ( select count(distinct Salary)\n",
    "      from  Employee\n",
    "      where Salary > t1.Salary\n",
    "          and DepartmentId = t2.Id\n",
    "      ) in (0,1,2)\n",
    "order by t2.Name, t1.Salary desc\n",
    ";\n",
    "```"
   ]
  },
  {
   "cell_type": "markdown",
   "metadata": {},
   "source": [
    "#### 3.2 设置变量的方法"
   ]
  },
  {
   "cell_type": "markdown",
   "metadata": {},
   "source": [
    "```sql\n",
    "set @salary_rank=0;\n",
    "set @current_id=NULL;\n",
    "set @previous_salary=-1;\n",
    "\n",
    "select Department, Employee, Salary\n",
    "from  ( select Department, Employee, Salary,\n",
    "           /*RANK() OVER (PARTITION BY E.Department ORDER BY E.Salary DESC) SalaryRank*/\n",
    "           @salary_rank := IF(@current_id = Department,IF(@previous_salary = Salary, @salary_rank, @salary_rank + 1), 1) AS SalaryRank,\n",
    "           @current_id := Department,\n",
    "           @previous_salary := Salary\n",
    "      from ( select D.Name Department, E.Name Employee, E.Salary Salary\n",
    "           from  Employee E\n",
    "               inner join Department D on D.Id = E.DepartmentId\n",
    "           group by D.Name, E.Salary, E.Name\n",
    "           order by D.Name asc, E.Salary desc\n",
    "          ) E\n",
    "     ) R\n",
    "where SalaryRank <= 3\n",
    "```"
   ]
  },
  {
   "cell_type": "markdown",
   "metadata": {},
   "source": [
    "```sql\n",
    "drop database test;\n",
    "```"
   ]
  }
 ],
 "metadata": {
  "kernelspec": {
   "display_name": "sk",
   "language": "python",
   "name": "sk"
  },
  "language_info": {
   "codemirror_mode": {
    "name": "ipython",
    "version": 3
   },
   "file_extension": ".py",
   "mimetype": "text/x-python",
   "name": "python",
   "nbconvert_exporter": "python",
   "pygments_lexer": "ipython3",
   "version": "3.6.2"
  }
 },
 "nbformat": 4,
 "nbformat_minor": 2
}
