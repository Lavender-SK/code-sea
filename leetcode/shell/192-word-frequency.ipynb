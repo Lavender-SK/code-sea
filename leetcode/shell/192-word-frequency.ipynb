{
 "cells": [
  {
   "cell_type": "markdown",
   "metadata": {},
   "source": [
    "### 1. 题目描述"
   ]
  },
  {
   "cell_type": "markdown",
   "metadata": {},
   "source": [
    "Write a bash script to calculate the frequency of each word in a text file words.txt.\n",
    "\n",
    "For simplicity sake, you may assume:\n",
    "\n",
    "- ```words.txt``` contains only lowercase characters and space ' ' characters.\n",
    "- Each word must consist of lowercase characters only.\n",
    "- Words are separated by one or more whitespace characters."
   ]
  },
  {
   "cell_type": "markdown",
   "metadata": {},
   "source": [
    "**Example:**\n",
    "\n",
    "Assume that ```words.txt``` has the following content:\n",
    "\n",
    "```text\n",
    "the day is sunny the the\n",
    "the sunny is is\n",
    "```\n",
    "\n",
    "Your script should output the following, sorted by descending frequency:\n",
    "\n",
    "```text\n",
    "the 4\n",
    "is 3\n",
    "sunny 2\n",
    "day 1\n",
    "```\n",
    "\n",
    "***Note:***\n",
    "\n",
    "- Don't worry about handling ties, it is guaranteed that each word's frequency count is unique.\n",
    "- Could you write it in one-line using Unix pipes?\n",
    "\n"
   ]
  },
  {
   "cell_type": "markdown",
   "metadata": {},
   "source": [
    "### 2. 问题分析"
   ]
  },
  {
   "cell_type": "markdown",
   "metadata": {},
   "source": [
    "#### 2.1 linux 读写一个文本"
   ]
  },
  {
   "cell_type": "code",
   "execution_count": 6,
   "metadata": {},
   "outputs": [
    {
     "name": "stdout",
     "output_type": "stream",
     "text": [
      "the day is sunny the the\n",
      "the sunny is is\n"
     ]
    }
   ],
   "source": [
    "%%bash\n",
    "\n",
    "# 写一个文本\n",
    "echo -e \"the day is sunny the the\\nthe sunny is is\" > words.txt\n",
    "\n",
    "# 读一个文本\n",
    "cat words.txt"
   ]
  },
  {
   "cell_type": "markdown",
   "metadata": {},
   "source": [
    "#### 2.2 tr 命令"
   ]
  },
  {
   "cell_type": "code",
   "execution_count": 12,
   "metadata": {},
   "outputs": [
    {
     "name": "stdout",
     "output_type": "stream",
     "text": [
      "Usage: tr [OPTION]... SET1 [SET2]\n",
      "Translate, squeeze, and/or delete characters from standard input,\n",
      "writing to standard output.\n",
      "\n",
      "  -c, -C, --complement    use the complement of SET1\n",
      "  -d, --delete            delete characters in SET1, do not translate\n",
      "  -s, --squeeze-repeats   replace each sequence of a repeated character\n",
      "                            that is listed in the last specified SET,\n",
      "                            with a single occurrence of that character\n",
      "  -t, --truncate-set1     first truncate SET1 to length of SET2\n",
      "      --help     display this help and exit\n",
      "      --version  output version information and exit\n",
      "\n",
      "SETs are specified as strings of characters.  Most represent themselves.\n",
      "Interpreted sequences are:\n",
      "\n",
      "  \\NNN            character with octal value NNN (1 to 3 octal digits)\n",
      "  \\\\              backslash\n",
      "  \\a              audible BEL\n",
      "  \\b              backspace\n",
      "  \\f              form feed\n",
      "  \\n              new line\n",
      "  \\r              return\n",
      "  \\t              horizontal tab\n",
      "  \\v              vertical tab\n",
      "  CHAR1-CHAR2     all characters from CHAR1 to CHAR2 in ascending order\n",
      "  [CHAR*]         in SET2, copies of CHAR until length of SET1\n",
      "  [CHAR*REPEAT]   REPEAT copies of CHAR, REPEAT octal if starting with 0\n",
      "  [:alnum:]       all letters and digits\n",
      "  [:alpha:]       all letters\n",
      "  [:blank:]       all horizontal whitespace\n",
      "  [:cntrl:]       all control characters\n",
      "  [:digit:]       all digits\n",
      "  [:graph:]       all printable characters, not including space\n",
      "  [:lower:]       all lower case letters\n",
      "  [:print:]       all printable characters, including space\n",
      "  [:punct:]       all punctuation characters\n",
      "  [:space:]       all horizontal or vertical whitespace\n",
      "  [:upper:]       all upper case letters\n",
      "  [:xdigit:]      all hexadecimal digits\n",
      "  [=CHAR=]        all characters which are equivalent to CHAR\n",
      "\n",
      "Translation occurs if -d is not given and both SET1 and SET2 appear.\n",
      "-t may be used only when translating.  SET2 is extended to length of\n",
      "SET1 by repeating its last character as necessary.  Excess characters\n",
      "of SET2 are ignored.  Only [:lower:] and [:upper:] are guaranteed to\n",
      "expand in ascending order; used in SET2 while translating, they may\n",
      "only be used in pairs to specify case conversion.  -s uses the last\n",
      "specified SET, and occurs after translation or deletion.\n",
      "\n",
      "GNU coreutils online help: <http://www.gnu.org/software/coreutils/>\n",
      "Full documentation at: <http://www.gnu.org/software/coreutils/tr>\n",
      "or available locally via: info '(coreutils) tr invocation'\n"
     ]
    }
   ],
   "source": [
    "%%bash\n",
    "tr --help"
   ]
  },
  {
   "cell_type": "code",
   "execution_count": 7,
   "metadata": {},
   "outputs": [
    {
     "name": "stdout",
     "output_type": "stream",
     "text": [
      "the\n",
      "day\n",
      "is\n",
      "sunny\n",
      "the\n",
      "the\n",
      "the\n",
      "sunny\n",
      "is\n",
      "is\n"
     ]
    }
   ],
   "source": [
    "%%bash\n",
    "\n",
    "cat words.txt | tr -s ' ' '\\n'"
   ]
  },
  {
   "cell_type": "markdown",
   "metadata": {},
   "source": [
    "#### 2.3 sort 命令"
   ]
  },
  {
   "cell_type": "code",
   "execution_count": 13,
   "metadata": {},
   "outputs": [
    {
     "name": "stdout",
     "output_type": "stream",
     "text": [
      "Usage: sort [OPTION]... [FILE]...\n",
      "  or:  sort [OPTION]... --files0-from=F\n",
      "Write sorted concatenation of all FILE(s) to standard output.\n",
      "\n",
      "With no FILE, or when FILE is -, read standard input.\n",
      "\n",
      "Mandatory arguments to long options are mandatory for short options too.\n",
      "Ordering options:\n",
      "\n",
      "  -b, --ignore-leading-blanks  ignore leading blanks\n",
      "  -d, --dictionary-order      consider only blanks and alphanumeric characters\n",
      "  -f, --ignore-case           fold lower case to upper case characters\n",
      "  -g, --general-numeric-sort  compare according to general numerical value\n",
      "  -i, --ignore-nonprinting    consider only printable characters\n",
      "  -M, --month-sort            compare (unknown) < 'JAN' < ... < 'DEC'\n",
      "  -h, --human-numeric-sort    compare human readable numbers (e.g., 2K 1G)\n",
      "  -n, --numeric-sort          compare according to string numerical value\n",
      "  -R, --random-sort           shuffle, but group identical keys.  See shuf(1)\n",
      "      --random-source=FILE    get random bytes from FILE\n",
      "  -r, --reverse               reverse the result of comparisons\n",
      "      --sort=WORD             sort according to WORD:\n",
      "                                general-numeric -g, human-numeric -h, month -M,\n",
      "                                numeric -n, random -R, version -V\n",
      "  -V, --version-sort          natural sort of (version) numbers within text\n",
      "\n",
      "Other options:\n",
      "\n",
      "      --batch-size=NMERGE   merge at most NMERGE inputs at once;\n",
      "                            for more use temp files\n",
      "  -c, --check, --check=diagnose-first  check for sorted input; do not sort\n",
      "  -C, --check=quiet, --check=silent  like -c, but do not report first bad line\n",
      "      --compress-program=PROG  compress temporaries with PROG;\n",
      "                              decompress them with PROG -d\n",
      "      --debug               annotate the part of the line used to sort,\n",
      "                              and warn about questionable usage to stderr\n",
      "      --files0-from=F       read input from the files specified by\n",
      "                            NUL-terminated names in file F;\n",
      "                            If F is - then read names from standard input\n",
      "  -k, --key=KEYDEF          sort via a key; KEYDEF gives location and type\n",
      "  -m, --merge               merge already sorted files; do not sort\n",
      "  -o, --output=FILE         write result to FILE instead of standard output\n",
      "  -s, --stable              stabilize sort by disabling last-resort comparison\n",
      "  -S, --buffer-size=SIZE    use SIZE for main memory buffer\n",
      "  -t, --field-separator=SEP  use SEP instead of non-blank to blank transition\n",
      "  -T, --temporary-directory=DIR  use DIR for temporaries, not $TMPDIR or /tmp;\n",
      "                              multiple options specify multiple directories\n",
      "      --parallel=N          change the number of sorts run concurrently to N\n",
      "  -u, --unique              with -c, check for strict ordering;\n",
      "                              without -c, output only the first of an equal run\n",
      "  -z, --zero-terminated     line delimiter is NUL, not newline\n",
      "      --help     display this help and exit\n",
      "      --version  output version information and exit\n",
      "\n",
      "KEYDEF is F[.C][OPTS][,F[.C][OPTS]] for start and stop position, where F is a\n",
      "field number and C a character position in the field; both are origin 1, and\n",
      "the stop position defaults to the line's end.  If neither -t nor -b is in\n",
      "effect, characters in a field are counted from the beginning of the preceding\n",
      "whitespace.  OPTS is one or more single-letter ordering options [bdfgiMhnRrV],\n",
      "which override global ordering options for that key.  If no key is given, use\n",
      "the entire line as the key.  Use --debug to diagnose incorrect key usage.\n",
      "\n",
      "SIZE may be followed by the following multiplicative suffixes:\n",
      "% 1% of memory, b 1, K 1024 (default), and so on for M, G, T, P, E, Z, Y.\n",
      "\n",
      "*** WARNING ***\n",
      "The locale specified by the environment affects sort order.\n",
      "Set LC_ALL=C to get the traditional sort order that uses\n",
      "native byte values.\n",
      "\n",
      "GNU coreutils online help: <http://www.gnu.org/software/coreutils/>\n",
      "Full documentation at: <http://www.gnu.org/software/coreutils/sort>\n",
      "or available locally via: info '(coreutils) sort invocation'\n"
     ]
    }
   ],
   "source": [
    "%%bash\n",
    "\n",
    "sort --help"
   ]
  },
  {
   "cell_type": "code",
   "execution_count": 14,
   "metadata": {},
   "outputs": [
    {
     "name": "stdout",
     "output_type": "stream",
     "text": [
      "day\n",
      "is\n",
      "is\n",
      "is\n",
      "sunny\n",
      "sunny\n",
      "the\n",
      "the\n",
      "the\n",
      "the\n"
     ]
    }
   ],
   "source": [
    "%%bash\n",
    "\n",
    "cat words.txt | tr -s ' ' '\\n' | sort"
   ]
  },
  {
   "cell_type": "markdown",
   "metadata": {},
   "source": [
    "#### 2.4 uniq 命令"
   ]
  },
  {
   "cell_type": "code",
   "execution_count": 21,
   "metadata": {},
   "outputs": [
    {
     "name": "stdout",
     "output_type": "stream",
     "text": [
      "Usage: uniq [OPTION]... [INPUT [OUTPUT]]\n",
      "Filter adjacent matching lines from INPUT (or standard input),\n",
      "writing to OUTPUT (or standard output).\n",
      "\n",
      "With no options, matching lines are merged to the first occurrence.\n",
      "\n",
      "Mandatory arguments to long options are mandatory for short options too.\n",
      "  -c, --count           prefix lines by the number of occurrences\n",
      "  -d, --repeated        only print duplicate lines, one for each group\n",
      "  -D                    print all duplicate lines\n",
      "      --all-repeated[=METHOD]  like -D, but allow separating groups\n",
      "                                 with an empty line;\n",
      "                                 METHOD={none(default),prepend,separate}\n",
      "  -f, --skip-fields=N   avoid comparing the first N fields\n",
      "      --group[=METHOD]  show all items, separating groups with an empty line;\n",
      "                          METHOD={separate(default),prepend,append,both}\n",
      "  -i, --ignore-case     ignore differences in case when comparing\n",
      "  -s, --skip-chars=N    avoid comparing the first N characters\n",
      "  -u, --unique          only print unique lines\n",
      "  -z, --zero-terminated     line delimiter is NUL, not newline\n",
      "  -w, --check-chars=N   compare no more than N characters in lines\n",
      "      --help     display this help and exit\n",
      "      --version  output version information and exit\n",
      "\n",
      "A field is a run of blanks (usually spaces and/or TABs), then non-blank\n",
      "characters.  Fields are skipped before chars.\n",
      "\n",
      "Note: 'uniq' does not detect repeated lines unless they are adjacent.\n",
      "You may want to sort the input first, or use 'sort -u' without 'uniq'.\n",
      "Also, comparisons honor the rules specified by 'LC_COLLATE'.\n",
      "\n",
      "GNU coreutils online help: <http://www.gnu.org/software/coreutils/>\n",
      "Full documentation at: <http://www.gnu.org/software/coreutils/uniq>\n",
      "or available locally via: info '(coreutils) uniq invocation'\n"
     ]
    }
   ],
   "source": [
    "%%bash\n",
    "\n",
    "uniq --help"
   ]
  },
  {
   "cell_type": "code",
   "execution_count": 20,
   "metadata": {},
   "outputs": [
    {
     "name": "stdout",
     "output_type": "stream",
     "text": [
      "      1 day\n",
      "      3 is\n",
      "      2 sunny\n",
      "      4 the\n"
     ]
    }
   ],
   "source": [
    "%%bash\n",
    "\n",
    "cat words.txt | tr -s ' ' '\\n' | sort | uniq -c"
   ]
  },
  {
   "cell_type": "code",
   "execution_count": 23,
   "metadata": {},
   "outputs": [
    {
     "name": "stdout",
     "output_type": "stream",
     "text": [
      "      4 the\n",
      "      3 is\n",
      "      2 sunny\n",
      "      1 day\n"
     ]
    }
   ],
   "source": [
    "%%bash\n",
    "\n",
    "cat words.txt | tr -s ' ' '\\n' | sort | uniq -c | sort -r"
   ]
  },
  {
   "cell_type": "markdown",
   "metadata": {},
   "source": [
    "#### 2.5 awk 命令"
   ]
  },
  {
   "cell_type": "code",
   "execution_count": 31,
   "metadata": {},
   "outputs": [
    {
     "name": "stdout",
     "output_type": "stream",
     "text": [
      "the 4\n",
      "is 3\n",
      "sunny 2\n",
      "day 1\n"
     ]
    }
   ],
   "source": [
    "%%bash\n",
    "cat words.txt | tr -s ' ' '\\n' | sort | uniq -c | sort -r | awk '{print $2,$1}'"
   ]
  },
  {
   "cell_type": "markdown",
   "metadata": {},
   "source": [
    "### 3. 代码"
   ]
  },
  {
   "cell_type": "code",
   "execution_count": 32,
   "metadata": {},
   "outputs": [
    {
     "name": "stdout",
     "output_type": "stream",
     "text": [
      "the 4\n",
      "is 3\n",
      "sunny 2\n",
      "day 1\n"
     ]
    }
   ],
   "source": [
    "%%bash\n",
    "\n",
    "cat words.txt | tr -s ' ' '\\n' | sort | uniq -c | sort -r | awk '{print $2,$1}'"
   ]
  },
  {
   "cell_type": "markdown",
   "metadata": {},
   "source": [
    "### 4. 删除示例文件"
   ]
  },
  {
   "cell_type": "code",
   "execution_count": 33,
   "metadata": {},
   "outputs": [],
   "source": [
    "%%bash\n",
    "rm words.txt"
   ]
  }
 ],
 "metadata": {
  "kernelspec": {
   "display_name": "Python 3",
   "language": "python",
   "name": "python3"
  },
  "language_info": {
   "codemirror_mode": {
    "name": "ipython",
    "version": 3
   },
   "file_extension": ".py",
   "mimetype": "text/x-python",
   "name": "python",
   "nbconvert_exporter": "python",
   "pygments_lexer": "ipython3",
   "version": "3.6.5"
  }
 },
 "nbformat": 4,
 "nbformat_minor": 2
}
